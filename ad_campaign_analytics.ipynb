{
  "cells": [
    {
      "cell_type": "markdown",
      "id": "31f85cb6",
      "metadata": {
        "id": "31f85cb6"
      },
      "source": [
        "## Importing dependencies"
      ]
    },
    {
      "cell_type": "code",
      "execution_count": 1,
      "id": "35a918d7",
      "metadata": {
        "id": "35a918d7"
      },
      "outputs": [],
      "source": [
        "import pandas as pd\n",
        "import numpy as np\n",
        "import seaborn as sns\n",
        "import matplotlib.pyplot as plt"
      ]
    },
    {
      "cell_type": "markdown",
      "id": "8e305f97",
      "metadata": {
        "id": "8e305f97"
      },
      "source": [
        "## Loading the data"
      ]
    },
    {
      "cell_type": "code",
      "source": [
        "# Mount the Google Drive\n",
        "from google.colab import drive\n",
        "drive.mount('/content/drive')\n",
        "\n",
        "# Read the CSV file from the drive\n",
        "campdata = pd.read_excel('/content/drive/MyDrive/Data Folder/adcampaign.xlsx', parse_dates=[0])\n",
        "\n",
        "# Print the first few rows of the DataFrame\n",
        "campdata.head()"
      ],
      "metadata": {
        "colab": {
          "base_uri": "https://localhost:8080/",
          "height": 374
        },
        "id": "epGFv55P27G3",
        "outputId": "6025b645-c737-4971-8012-954bcfde56ce"
      },
      "id": "epGFv55P27G3",
      "execution_count": 2,
      "outputs": [
        {
          "output_type": "stream",
          "name": "stdout",
          "text": [
            "Mounted at /content/drive\n"
          ]
        },
        {
          "output_type": "execute_result",
          "data": {
            "text/plain": [
              "        Date  CreativeID   CreativeName     MediaFormat CreativeCategory  \\\n",
              "0 2018-04-26         692  Artful Dodger  Vertical Video              Art   \n",
              "1 2018-04-26         692  Artful Dodger  Vertical Video              Art   \n",
              "2 2018-04-26         692  Artful Dodger  Vertical Video              Art   \n",
              "3 2018-04-26         692  Artful Dodger  Vertical Video              Art   \n",
              "4 2018-04-26         692  Artful Dodger  Vertical Video              Art   \n",
              "\n",
              "  DominantColour        CreativeFormat  Impressions  Clicks  VideoStarts  \\\n",
              "0          Video  Mobile Interscroller           50       0           10   \n",
              "1          Video  Mobile Interscroller            9       0            3   \n",
              "2          Video  Mobile Interscroller          124       0           56   \n",
              "3          Video  Mobile Interscroller           58       0           34   \n",
              "4          Video  Mobile Interscroller            2       0            0   \n",
              "\n",
              "   VideoCompletions OperatingSystem  DayofWeek              Site SiteCategory  \n",
              "0                 4         Android          4  Progressive News         News  \n",
              "1                 2         Android          4    The City Daily         News  \n",
              "2                26             iOS          4  Progressive News         News  \n",
              "3                15             iOS          4    The City Daily         News  \n",
              "4                 0           Other          4  Progressive News         News  "
            ],
            "text/html": [
              "\n",
              "  <div id=\"df-6998987b-2186-4a4c-9e8e-e3342cb83bad\">\n",
              "    <div class=\"colab-df-container\">\n",
              "      <div>\n",
              "<style scoped>\n",
              "    .dataframe tbody tr th:only-of-type {\n",
              "        vertical-align: middle;\n",
              "    }\n",
              "\n",
              "    .dataframe tbody tr th {\n",
              "        vertical-align: top;\n",
              "    }\n",
              "\n",
              "    .dataframe thead th {\n",
              "        text-align: right;\n",
              "    }\n",
              "</style>\n",
              "<table border=\"1\" class=\"dataframe\">\n",
              "  <thead>\n",
              "    <tr style=\"text-align: right;\">\n",
              "      <th></th>\n",
              "      <th>Date</th>\n",
              "      <th>CreativeID</th>\n",
              "      <th>CreativeName</th>\n",
              "      <th>MediaFormat</th>\n",
              "      <th>CreativeCategory</th>\n",
              "      <th>DominantColour</th>\n",
              "      <th>CreativeFormat</th>\n",
              "      <th>Impressions</th>\n",
              "      <th>Clicks</th>\n",
              "      <th>VideoStarts</th>\n",
              "      <th>VideoCompletions</th>\n",
              "      <th>OperatingSystem</th>\n",
              "      <th>DayofWeek</th>\n",
              "      <th>Site</th>\n",
              "      <th>SiteCategory</th>\n",
              "    </tr>\n",
              "  </thead>\n",
              "  <tbody>\n",
              "    <tr>\n",
              "      <th>0</th>\n",
              "      <td>2018-04-26</td>\n",
              "      <td>692</td>\n",
              "      <td>Artful Dodger</td>\n",
              "      <td>Vertical Video</td>\n",
              "      <td>Art</td>\n",
              "      <td>Video</td>\n",
              "      <td>Mobile Interscroller</td>\n",
              "      <td>50</td>\n",
              "      <td>0</td>\n",
              "      <td>10</td>\n",
              "      <td>4</td>\n",
              "      <td>Android</td>\n",
              "      <td>4</td>\n",
              "      <td>Progressive News</td>\n",
              "      <td>News</td>\n",
              "    </tr>\n",
              "    <tr>\n",
              "      <th>1</th>\n",
              "      <td>2018-04-26</td>\n",
              "      <td>692</td>\n",
              "      <td>Artful Dodger</td>\n",
              "      <td>Vertical Video</td>\n",
              "      <td>Art</td>\n",
              "      <td>Video</td>\n",
              "      <td>Mobile Interscroller</td>\n",
              "      <td>9</td>\n",
              "      <td>0</td>\n",
              "      <td>3</td>\n",
              "      <td>2</td>\n",
              "      <td>Android</td>\n",
              "      <td>4</td>\n",
              "      <td>The City Daily</td>\n",
              "      <td>News</td>\n",
              "    </tr>\n",
              "    <tr>\n",
              "      <th>2</th>\n",
              "      <td>2018-04-26</td>\n",
              "      <td>692</td>\n",
              "      <td>Artful Dodger</td>\n",
              "      <td>Vertical Video</td>\n",
              "      <td>Art</td>\n",
              "      <td>Video</td>\n",
              "      <td>Mobile Interscroller</td>\n",
              "      <td>124</td>\n",
              "      <td>0</td>\n",
              "      <td>56</td>\n",
              "      <td>26</td>\n",
              "      <td>iOS</td>\n",
              "      <td>4</td>\n",
              "      <td>Progressive News</td>\n",
              "      <td>News</td>\n",
              "    </tr>\n",
              "    <tr>\n",
              "      <th>3</th>\n",
              "      <td>2018-04-26</td>\n",
              "      <td>692</td>\n",
              "      <td>Artful Dodger</td>\n",
              "      <td>Vertical Video</td>\n",
              "      <td>Art</td>\n",
              "      <td>Video</td>\n",
              "      <td>Mobile Interscroller</td>\n",
              "      <td>58</td>\n",
              "      <td>0</td>\n",
              "      <td>34</td>\n",
              "      <td>15</td>\n",
              "      <td>iOS</td>\n",
              "      <td>4</td>\n",
              "      <td>The City Daily</td>\n",
              "      <td>News</td>\n",
              "    </tr>\n",
              "    <tr>\n",
              "      <th>4</th>\n",
              "      <td>2018-04-26</td>\n",
              "      <td>692</td>\n",
              "      <td>Artful Dodger</td>\n",
              "      <td>Vertical Video</td>\n",
              "      <td>Art</td>\n",
              "      <td>Video</td>\n",
              "      <td>Mobile Interscroller</td>\n",
              "      <td>2</td>\n",
              "      <td>0</td>\n",
              "      <td>0</td>\n",
              "      <td>0</td>\n",
              "      <td>Other</td>\n",
              "      <td>4</td>\n",
              "      <td>Progressive News</td>\n",
              "      <td>News</td>\n",
              "    </tr>\n",
              "  </tbody>\n",
              "</table>\n",
              "</div>\n",
              "      <button class=\"colab-df-convert\" onclick=\"convertToInteractive('df-6998987b-2186-4a4c-9e8e-e3342cb83bad')\"\n",
              "              title=\"Convert this dataframe to an interactive table.\"\n",
              "              style=\"display:none;\">\n",
              "        \n",
              "  <svg xmlns=\"http://www.w3.org/2000/svg\" height=\"24px\"viewBox=\"0 0 24 24\"\n",
              "       width=\"24px\">\n",
              "    <path d=\"M0 0h24v24H0V0z\" fill=\"none\"/>\n",
              "    <path d=\"M18.56 5.44l.94 2.06.94-2.06 2.06-.94-2.06-.94-.94-2.06-.94 2.06-2.06.94zm-11 1L8.5 8.5l.94-2.06 2.06-.94-2.06-.94L8.5 2.5l-.94 2.06-2.06.94zm10 10l.94 2.06.94-2.06 2.06-.94-2.06-.94-.94-2.06-.94 2.06-2.06.94z\"/><path d=\"M17.41 7.96l-1.37-1.37c-.4-.4-.92-.59-1.43-.59-.52 0-1.04.2-1.43.59L10.3 9.45l-7.72 7.72c-.78.78-.78 2.05 0 2.83L4 21.41c.39.39.9.59 1.41.59.51 0 1.02-.2 1.41-.59l7.78-7.78 2.81-2.81c.8-.78.8-2.07 0-2.86zM5.41 20L4 18.59l7.72-7.72 1.47 1.35L5.41 20z\"/>\n",
              "  </svg>\n",
              "      </button>\n",
              "      \n",
              "  <style>\n",
              "    .colab-df-container {\n",
              "      display:flex;\n",
              "      flex-wrap:wrap;\n",
              "      gap: 12px;\n",
              "    }\n",
              "\n",
              "    .colab-df-convert {\n",
              "      background-color: #E8F0FE;\n",
              "      border: none;\n",
              "      border-radius: 50%;\n",
              "      cursor: pointer;\n",
              "      display: none;\n",
              "      fill: #1967D2;\n",
              "      height: 32px;\n",
              "      padding: 0 0 0 0;\n",
              "      width: 32px;\n",
              "    }\n",
              "\n",
              "    .colab-df-convert:hover {\n",
              "      background-color: #E2EBFA;\n",
              "      box-shadow: 0px 1px 2px rgba(60, 64, 67, 0.3), 0px 1px 3px 1px rgba(60, 64, 67, 0.15);\n",
              "      fill: #174EA6;\n",
              "    }\n",
              "\n",
              "    [theme=dark] .colab-df-convert {\n",
              "      background-color: #3B4455;\n",
              "      fill: #D2E3FC;\n",
              "    }\n",
              "\n",
              "    [theme=dark] .colab-df-convert:hover {\n",
              "      background-color: #434B5C;\n",
              "      box-shadow: 0px 1px 3px 1px rgba(0, 0, 0, 0.15);\n",
              "      filter: drop-shadow(0px 1px 2px rgba(0, 0, 0, 0.3));\n",
              "      fill: #FFFFFF;\n",
              "    }\n",
              "  </style>\n",
              "\n",
              "      <script>\n",
              "        const buttonEl =\n",
              "          document.querySelector('#df-6998987b-2186-4a4c-9e8e-e3342cb83bad button.colab-df-convert');\n",
              "        buttonEl.style.display =\n",
              "          google.colab.kernel.accessAllowed ? 'block' : 'none';\n",
              "\n",
              "        async function convertToInteractive(key) {\n",
              "          const element = document.querySelector('#df-6998987b-2186-4a4c-9e8e-e3342cb83bad');\n",
              "          const dataTable =\n",
              "            await google.colab.kernel.invokeFunction('convertToInteractive',\n",
              "                                                     [key], {});\n",
              "          if (!dataTable) return;\n",
              "\n",
              "          const docLinkHtml = 'Like what you see? Visit the ' +\n",
              "            '<a target=\"_blank\" href=https://colab.research.google.com/notebooks/data_table.ipynb>data table notebook</a>'\n",
              "            + ' to learn more about interactive tables.';\n",
              "          element.innerHTML = '';\n",
              "          dataTable['output_type'] = 'display_data';\n",
              "          await google.colab.output.renderOutput(dataTable, element);\n",
              "          const docLink = document.createElement('div');\n",
              "          docLink.innerHTML = docLinkHtml;\n",
              "          element.appendChild(docLink);\n",
              "        }\n",
              "      </script>\n",
              "    </div>\n",
              "  </div>\n",
              "  "
            ]
          },
          "metadata": {},
          "execution_count": 2
        }
      ]
    },
    {
      "cell_type": "code",
      "source": [
        "campdata.tail()"
      ],
      "metadata": {
        "colab": {
          "base_uri": "https://localhost:8080/",
          "height": 357
        },
        "id": "OK-RZUYM3Ub4",
        "outputId": "f91c3e98-e79b-4229-c25c-9aa369a9e129"
      },
      "id": "OK-RZUYM3Ub4",
      "execution_count": 3,
      "outputs": [
        {
          "output_type": "execute_result",
          "data": {
            "text/plain": [
              "            Date  CreativeID    CreativeName     MediaFormat CreativeCategory  \\\n",
              "37443 2018-06-06        1110  DoYouEvenLift?  Static Display           Sports   \n",
              "37444 2018-06-06        1110  DoYouEvenLift?  Static Display           Sports   \n",
              "37445 2018-06-06        1110  DoYouEvenLift?  Static Display           Sports   \n",
              "37446 2018-06-06        1110  DoYouEvenLift?  Static Display           Sports   \n",
              "37447 2018-06-06        1110  DoYouEvenLift?  Static Display           Sports   \n",
              "\n",
              "      DominantColour CreativeFormat  Impressions  Clicks  VideoStarts  \\\n",
              "37443     Light Blue            MPU           38       0            0   \n",
              "37444     Light Blue            MPU            2       0            0   \n",
              "37445     Light Blue            MPU            4       0            0   \n",
              "37446     Light Blue            MPU          146       0            0   \n",
              "37447     Light Blue            MPU            1       0            0   \n",
              "\n",
              "       VideoCompletions OperatingSystem  DayofWeek            Site  \\\n",
              "37443                 0         Android          3  Wot? Lifestyle   \n",
              "37444                 0           Other          3  Wot? Lifestyle   \n",
              "37445                 0             iOS          3  Wot? Lifestyle   \n",
              "37446                 0             iOS          3  Wot? Lifestyle   \n",
              "37447                 0           Other          3  Wot? Lifestyle   \n",
              "\n",
              "      SiteCategory  \n",
              "37443    Lifestyle  \n",
              "37444    Lifestyle  \n",
              "37445    Lifestyle  \n",
              "37446    Lifestyle  \n",
              "37447    Lifestyle  "
            ],
            "text/html": [
              "\n",
              "  <div id=\"df-81af3894-8b19-4032-8a3f-7fff607e02fb\">\n",
              "    <div class=\"colab-df-container\">\n",
              "      <div>\n",
              "<style scoped>\n",
              "    .dataframe tbody tr th:only-of-type {\n",
              "        vertical-align: middle;\n",
              "    }\n",
              "\n",
              "    .dataframe tbody tr th {\n",
              "        vertical-align: top;\n",
              "    }\n",
              "\n",
              "    .dataframe thead th {\n",
              "        text-align: right;\n",
              "    }\n",
              "</style>\n",
              "<table border=\"1\" class=\"dataframe\">\n",
              "  <thead>\n",
              "    <tr style=\"text-align: right;\">\n",
              "      <th></th>\n",
              "      <th>Date</th>\n",
              "      <th>CreativeID</th>\n",
              "      <th>CreativeName</th>\n",
              "      <th>MediaFormat</th>\n",
              "      <th>CreativeCategory</th>\n",
              "      <th>DominantColour</th>\n",
              "      <th>CreativeFormat</th>\n",
              "      <th>Impressions</th>\n",
              "      <th>Clicks</th>\n",
              "      <th>VideoStarts</th>\n",
              "      <th>VideoCompletions</th>\n",
              "      <th>OperatingSystem</th>\n",
              "      <th>DayofWeek</th>\n",
              "      <th>Site</th>\n",
              "      <th>SiteCategory</th>\n",
              "    </tr>\n",
              "  </thead>\n",
              "  <tbody>\n",
              "    <tr>\n",
              "      <th>37443</th>\n",
              "      <td>2018-06-06</td>\n",
              "      <td>1110</td>\n",
              "      <td>DoYouEvenLift?</td>\n",
              "      <td>Static Display</td>\n",
              "      <td>Sports</td>\n",
              "      <td>Light Blue</td>\n",
              "      <td>MPU</td>\n",
              "      <td>38</td>\n",
              "      <td>0</td>\n",
              "      <td>0</td>\n",
              "      <td>0</td>\n",
              "      <td>Android</td>\n",
              "      <td>3</td>\n",
              "      <td>Wot? Lifestyle</td>\n",
              "      <td>Lifestyle</td>\n",
              "    </tr>\n",
              "    <tr>\n",
              "      <th>37444</th>\n",
              "      <td>2018-06-06</td>\n",
              "      <td>1110</td>\n",
              "      <td>DoYouEvenLift?</td>\n",
              "      <td>Static Display</td>\n",
              "      <td>Sports</td>\n",
              "      <td>Light Blue</td>\n",
              "      <td>MPU</td>\n",
              "      <td>2</td>\n",
              "      <td>0</td>\n",
              "      <td>0</td>\n",
              "      <td>0</td>\n",
              "      <td>Other</td>\n",
              "      <td>3</td>\n",
              "      <td>Wot? Lifestyle</td>\n",
              "      <td>Lifestyle</td>\n",
              "    </tr>\n",
              "    <tr>\n",
              "      <th>37445</th>\n",
              "      <td>2018-06-06</td>\n",
              "      <td>1110</td>\n",
              "      <td>DoYouEvenLift?</td>\n",
              "      <td>Static Display</td>\n",
              "      <td>Sports</td>\n",
              "      <td>Light Blue</td>\n",
              "      <td>MPU</td>\n",
              "      <td>4</td>\n",
              "      <td>0</td>\n",
              "      <td>0</td>\n",
              "      <td>0</td>\n",
              "      <td>iOS</td>\n",
              "      <td>3</td>\n",
              "      <td>Wot? Lifestyle</td>\n",
              "      <td>Lifestyle</td>\n",
              "    </tr>\n",
              "    <tr>\n",
              "      <th>37446</th>\n",
              "      <td>2018-06-06</td>\n",
              "      <td>1110</td>\n",
              "      <td>DoYouEvenLift?</td>\n",
              "      <td>Static Display</td>\n",
              "      <td>Sports</td>\n",
              "      <td>Light Blue</td>\n",
              "      <td>MPU</td>\n",
              "      <td>146</td>\n",
              "      <td>0</td>\n",
              "      <td>0</td>\n",
              "      <td>0</td>\n",
              "      <td>iOS</td>\n",
              "      <td>3</td>\n",
              "      <td>Wot? Lifestyle</td>\n",
              "      <td>Lifestyle</td>\n",
              "    </tr>\n",
              "    <tr>\n",
              "      <th>37447</th>\n",
              "      <td>2018-06-06</td>\n",
              "      <td>1110</td>\n",
              "      <td>DoYouEvenLift?</td>\n",
              "      <td>Static Display</td>\n",
              "      <td>Sports</td>\n",
              "      <td>Light Blue</td>\n",
              "      <td>MPU</td>\n",
              "      <td>1</td>\n",
              "      <td>0</td>\n",
              "      <td>0</td>\n",
              "      <td>0</td>\n",
              "      <td>Other</td>\n",
              "      <td>3</td>\n",
              "      <td>Wot? Lifestyle</td>\n",
              "      <td>Lifestyle</td>\n",
              "    </tr>\n",
              "  </tbody>\n",
              "</table>\n",
              "</div>\n",
              "      <button class=\"colab-df-convert\" onclick=\"convertToInteractive('df-81af3894-8b19-4032-8a3f-7fff607e02fb')\"\n",
              "              title=\"Convert this dataframe to an interactive table.\"\n",
              "              style=\"display:none;\">\n",
              "        \n",
              "  <svg xmlns=\"http://www.w3.org/2000/svg\" height=\"24px\"viewBox=\"0 0 24 24\"\n",
              "       width=\"24px\">\n",
              "    <path d=\"M0 0h24v24H0V0z\" fill=\"none\"/>\n",
              "    <path d=\"M18.56 5.44l.94 2.06.94-2.06 2.06-.94-2.06-.94-.94-2.06-.94 2.06-2.06.94zm-11 1L8.5 8.5l.94-2.06 2.06-.94-2.06-.94L8.5 2.5l-.94 2.06-2.06.94zm10 10l.94 2.06.94-2.06 2.06-.94-2.06-.94-.94-2.06-.94 2.06-2.06.94z\"/><path d=\"M17.41 7.96l-1.37-1.37c-.4-.4-.92-.59-1.43-.59-.52 0-1.04.2-1.43.59L10.3 9.45l-7.72 7.72c-.78.78-.78 2.05 0 2.83L4 21.41c.39.39.9.59 1.41.59.51 0 1.02-.2 1.41-.59l7.78-7.78 2.81-2.81c.8-.78.8-2.07 0-2.86zM5.41 20L4 18.59l7.72-7.72 1.47 1.35L5.41 20z\"/>\n",
              "  </svg>\n",
              "      </button>\n",
              "      \n",
              "  <style>\n",
              "    .colab-df-container {\n",
              "      display:flex;\n",
              "      flex-wrap:wrap;\n",
              "      gap: 12px;\n",
              "    }\n",
              "\n",
              "    .colab-df-convert {\n",
              "      background-color: #E8F0FE;\n",
              "      border: none;\n",
              "      border-radius: 50%;\n",
              "      cursor: pointer;\n",
              "      display: none;\n",
              "      fill: #1967D2;\n",
              "      height: 32px;\n",
              "      padding: 0 0 0 0;\n",
              "      width: 32px;\n",
              "    }\n",
              "\n",
              "    .colab-df-convert:hover {\n",
              "      background-color: #E2EBFA;\n",
              "      box-shadow: 0px 1px 2px rgba(60, 64, 67, 0.3), 0px 1px 3px 1px rgba(60, 64, 67, 0.15);\n",
              "      fill: #174EA6;\n",
              "    }\n",
              "\n",
              "    [theme=dark] .colab-df-convert {\n",
              "      background-color: #3B4455;\n",
              "      fill: #D2E3FC;\n",
              "    }\n",
              "\n",
              "    [theme=dark] .colab-df-convert:hover {\n",
              "      background-color: #434B5C;\n",
              "      box-shadow: 0px 1px 3px 1px rgba(0, 0, 0, 0.15);\n",
              "      filter: drop-shadow(0px 1px 2px rgba(0, 0, 0, 0.3));\n",
              "      fill: #FFFFFF;\n",
              "    }\n",
              "  </style>\n",
              "\n",
              "      <script>\n",
              "        const buttonEl =\n",
              "          document.querySelector('#df-81af3894-8b19-4032-8a3f-7fff607e02fb button.colab-df-convert');\n",
              "        buttonEl.style.display =\n",
              "          google.colab.kernel.accessAllowed ? 'block' : 'none';\n",
              "\n",
              "        async function convertToInteractive(key) {\n",
              "          const element = document.querySelector('#df-81af3894-8b19-4032-8a3f-7fff607e02fb');\n",
              "          const dataTable =\n",
              "            await google.colab.kernel.invokeFunction('convertToInteractive',\n",
              "                                                     [key], {});\n",
              "          if (!dataTable) return;\n",
              "\n",
              "          const docLinkHtml = 'Like what you see? Visit the ' +\n",
              "            '<a target=\"_blank\" href=https://colab.research.google.com/notebooks/data_table.ipynb>data table notebook</a>'\n",
              "            + ' to learn more about interactive tables.';\n",
              "          element.innerHTML = '';\n",
              "          dataTable['output_type'] = 'display_data';\n",
              "          await google.colab.output.renderOutput(dataTable, element);\n",
              "          const docLink = document.createElement('div');\n",
              "          docLink.innerHTML = docLinkHtml;\n",
              "          element.appendChild(docLink);\n",
              "        }\n",
              "      </script>\n",
              "    </div>\n",
              "  </div>\n",
              "  "
            ]
          },
          "metadata": {},
          "execution_count": 3
        }
      ]
    },
    {
      "cell_type": "code",
      "execution_count": 4,
      "id": "1b24ba72",
      "metadata": {
        "colab": {
          "base_uri": "https://localhost:8080/"
        },
        "id": "1b24ba72",
        "outputId": "54113439-af65-435e-daaa-4ca44ee88616"
      },
      "outputs": [
        {
          "output_type": "execute_result",
          "data": {
            "text/plain": [
              "(37448, 15)"
            ]
          },
          "metadata": {},
          "execution_count": 4
        }
      ],
      "source": [
        "# Shape of the data\n",
        "campdata.shape"
      ]
    },
    {
      "cell_type": "code",
      "execution_count": 5,
      "id": "c21b4827",
      "metadata": {
        "colab": {
          "base_uri": "https://localhost:8080/"
        },
        "id": "c21b4827",
        "outputId": "c46bc714-1123-4153-b365-5bc02917133c"
      },
      "outputs": [
        {
          "output_type": "stream",
          "name": "stdout",
          "text": [
            "<class 'pandas.core.frame.DataFrame'>\n",
            "RangeIndex: 37448 entries, 0 to 37447\n",
            "Data columns (total 15 columns):\n",
            " #   Column            Non-Null Count  Dtype         \n",
            "---  ------            --------------  -----         \n",
            " 0   Date              37448 non-null  datetime64[ns]\n",
            " 1   CreativeID        37448 non-null  int64         \n",
            " 2   CreativeName      37448 non-null  object        \n",
            " 3   MediaFormat       37448 non-null  object        \n",
            " 4   CreativeCategory  37448 non-null  object        \n",
            " 5   DominantColour    37448 non-null  object        \n",
            " 6   CreativeFormat    37448 non-null  object        \n",
            " 7   Impressions       37448 non-null  int64         \n",
            " 8   Clicks            37448 non-null  int64         \n",
            " 9   VideoStarts       37448 non-null  int64         \n",
            " 10  VideoCompletions  37448 non-null  int64         \n",
            " 11  OperatingSystem   37448 non-null  object        \n",
            " 12  DayofWeek         37448 non-null  int64         \n",
            " 13  Site              37448 non-null  object        \n",
            " 14  SiteCategory      37448 non-null  object        \n",
            "dtypes: datetime64[ns](1), int64(6), object(8)\n",
            "memory usage: 4.3+ MB\n"
          ]
        }
      ],
      "source": [
        "campdata.info()"
      ]
    },
    {
      "cell_type": "code",
      "execution_count": 6,
      "id": "f7afeae7",
      "metadata": {
        "colab": {
          "base_uri": "https://localhost:8080/"
        },
        "id": "f7afeae7",
        "outputId": "e481841a-2de9-41ef-8f98-1abffc00588f"
      },
      "outputs": [
        {
          "output_type": "execute_result",
          "data": {
            "text/plain": [
              "Index(['Date', 'CreativeID', 'CreativeName', 'MediaFormat', 'CreativeCategory',\n",
              "       'DominantColour', 'CreativeFormat', 'Impressions', 'Clicks',\n",
              "       'VideoStarts', 'VideoCompletions', 'OperatingSystem', 'DayofWeek',\n",
              "       'Site', 'SiteCategory'],\n",
              "      dtype='object')"
            ]
          },
          "metadata": {},
          "execution_count": 6
        }
      ],
      "source": [
        "campdata.columns #Returns all the column names"
      ]
    },
    {
      "cell_type": "markdown",
      "id": "4ab29e5f",
      "metadata": {
        "id": "4ab29e5f"
      },
      "source": [
        "## Data Pre-processing : Finding out NaN values. "
      ]
    },
    {
      "cell_type": "code",
      "execution_count": 7,
      "id": "962fde75",
      "metadata": {
        "colab": {
          "base_uri": "https://localhost:8080/"
        },
        "id": "962fde75",
        "outputId": "991346cd-ca3c-454e-e14f-39f5455f1e9f"
      },
      "outputs": [
        {
          "output_type": "execute_result",
          "data": {
            "text/plain": [
              "Date                False\n",
              "CreativeID          False\n",
              "CreativeName        False\n",
              "MediaFormat         False\n",
              "CreativeCategory    False\n",
              "DominantColour      False\n",
              "CreativeFormat      False\n",
              "Impressions         False\n",
              "Clicks              False\n",
              "VideoStarts         False\n",
              "VideoCompletions    False\n",
              "OperatingSystem     False\n",
              "DayofWeek           False\n",
              "Site                False\n",
              "SiteCategory        False\n",
              "dtype: bool"
            ]
          },
          "metadata": {},
          "execution_count": 7
        }
      ],
      "source": [
        "campdata.isna().any()"
      ]
    },
    {
      "cell_type": "markdown",
      "id": "35c9ef36",
      "metadata": {
        "id": "35c9ef36"
      },
      "source": [
        "## Cleaning the data"
      ]
    },
    {
      "cell_type": "code",
      "execution_count": 8,
      "id": "c267cced",
      "metadata": {
        "colab": {
          "base_uri": "https://localhost:8080/"
        },
        "id": "c267cced",
        "outputId": "228db14a-5d63-4ac6-e1ff-789aeb79d949"
      },
      "outputs": [
        {
          "output_type": "execute_result",
          "data": {
            "text/plain": [
              "array(['Progressive News', 'The City Daily', 'Business Times',\n",
              "       'Sitting Pretty', 'The ClothesRack', 'NIMBY Times', 'Spambook',\n",
              "       'FootyNews', 'Wot? Lifestyle', 'More Sport', 'CityNews',\n",
              "       'Weights & Plates', 'Marathon Digest', 'The Classic Gentleman',\n",
              "       'MusicRoom', 'RockTunes', 'GossipNews', 'SportSpam', 'FPSGaming',\n",
              "       'Cycling Today', 'PedalBikez', 'Vroom Motoring', 'We Love Gaming',\n",
              "       'Gadgetron', 'Edgy Lifestyles', 'Coin-Op Gaming', 'UK Broadsheet',\n",
              "       'Little Bird Lifestyle', 'Home & House', 'Fashionista',\n",
              "       'The TV News', 'The Ocho Sports Network'], dtype=object)"
            ]
          },
          "metadata": {},
          "execution_count": 8
        }
      ],
      "source": [
        "campdata['Site'].unique()\n",
        "# Taking this step as I have observed a site with the name \"Wot? Lifestyle\", I assume that it should be Lifestyle. "
      ]
    },
    {
      "cell_type": "markdown",
      "id": "b5e559c5",
      "metadata": {
        "id": "b5e559c5"
      },
      "source": [
        "## Statistical Description of the dataset"
      ]
    },
    {
      "cell_type": "code",
      "execution_count": 9,
      "id": "ea418efa",
      "metadata": {
        "scrolled": true,
        "colab": {
          "base_uri": "https://localhost:8080/",
          "height": 300
        },
        "id": "ea418efa",
        "outputId": "0c75a895-9f28-400d-9010-f3628b984af3"
      },
      "outputs": [
        {
          "output_type": "execute_result",
          "data": {
            "text/plain": [
              "         CreativeID   Impressions        Clicks   VideoStarts  \\\n",
              "count  37448.000000  37448.000000  37448.000000  37448.000000   \n",
              "mean    2398.816946    262.545076      1.295690     17.248959   \n",
              "std     1387.873849    783.168308      4.707484    116.342093   \n",
              "min       84.000000      1.000000      0.000000      0.000000   \n",
              "25%     1157.000000      3.000000      0.000000      0.000000   \n",
              "50%     2309.000000     23.000000      0.000000      0.000000   \n",
              "75%     3556.000000    180.000000      1.000000      0.000000   \n",
              "max     4980.000000  28873.000000    175.000000   3849.000000   \n",
              "\n",
              "       VideoCompletions     DayofWeek  \n",
              "count      37448.000000  37448.000000  \n",
              "mean           7.039335      3.878792  \n",
              "std           48.925129      1.998323  \n",
              "min            0.000000      1.000000  \n",
              "25%            0.000000      2.000000  \n",
              "50%            0.000000      4.000000  \n",
              "75%            0.000000      6.000000  \n",
              "max         1680.000000      7.000000  "
            ],
            "text/html": [
              "\n",
              "  <div id=\"df-02edc136-fc70-4fe9-b502-d1bb69f66837\">\n",
              "    <div class=\"colab-df-container\">\n",
              "      <div>\n",
              "<style scoped>\n",
              "    .dataframe tbody tr th:only-of-type {\n",
              "        vertical-align: middle;\n",
              "    }\n",
              "\n",
              "    .dataframe tbody tr th {\n",
              "        vertical-align: top;\n",
              "    }\n",
              "\n",
              "    .dataframe thead th {\n",
              "        text-align: right;\n",
              "    }\n",
              "</style>\n",
              "<table border=\"1\" class=\"dataframe\">\n",
              "  <thead>\n",
              "    <tr style=\"text-align: right;\">\n",
              "      <th></th>\n",
              "      <th>CreativeID</th>\n",
              "      <th>Impressions</th>\n",
              "      <th>Clicks</th>\n",
              "      <th>VideoStarts</th>\n",
              "      <th>VideoCompletions</th>\n",
              "      <th>DayofWeek</th>\n",
              "    </tr>\n",
              "  </thead>\n",
              "  <tbody>\n",
              "    <tr>\n",
              "      <th>count</th>\n",
              "      <td>37448.000000</td>\n",
              "      <td>37448.000000</td>\n",
              "      <td>37448.000000</td>\n",
              "      <td>37448.000000</td>\n",
              "      <td>37448.000000</td>\n",
              "      <td>37448.000000</td>\n",
              "    </tr>\n",
              "    <tr>\n",
              "      <th>mean</th>\n",
              "      <td>2398.816946</td>\n",
              "      <td>262.545076</td>\n",
              "      <td>1.295690</td>\n",
              "      <td>17.248959</td>\n",
              "      <td>7.039335</td>\n",
              "      <td>3.878792</td>\n",
              "    </tr>\n",
              "    <tr>\n",
              "      <th>std</th>\n",
              "      <td>1387.873849</td>\n",
              "      <td>783.168308</td>\n",
              "      <td>4.707484</td>\n",
              "      <td>116.342093</td>\n",
              "      <td>48.925129</td>\n",
              "      <td>1.998323</td>\n",
              "    </tr>\n",
              "    <tr>\n",
              "      <th>min</th>\n",
              "      <td>84.000000</td>\n",
              "      <td>1.000000</td>\n",
              "      <td>0.000000</td>\n",
              "      <td>0.000000</td>\n",
              "      <td>0.000000</td>\n",
              "      <td>1.000000</td>\n",
              "    </tr>\n",
              "    <tr>\n",
              "      <th>25%</th>\n",
              "      <td>1157.000000</td>\n",
              "      <td>3.000000</td>\n",
              "      <td>0.000000</td>\n",
              "      <td>0.000000</td>\n",
              "      <td>0.000000</td>\n",
              "      <td>2.000000</td>\n",
              "    </tr>\n",
              "    <tr>\n",
              "      <th>50%</th>\n",
              "      <td>2309.000000</td>\n",
              "      <td>23.000000</td>\n",
              "      <td>0.000000</td>\n",
              "      <td>0.000000</td>\n",
              "      <td>0.000000</td>\n",
              "      <td>4.000000</td>\n",
              "    </tr>\n",
              "    <tr>\n",
              "      <th>75%</th>\n",
              "      <td>3556.000000</td>\n",
              "      <td>180.000000</td>\n",
              "      <td>1.000000</td>\n",
              "      <td>0.000000</td>\n",
              "      <td>0.000000</td>\n",
              "      <td>6.000000</td>\n",
              "    </tr>\n",
              "    <tr>\n",
              "      <th>max</th>\n",
              "      <td>4980.000000</td>\n",
              "      <td>28873.000000</td>\n",
              "      <td>175.000000</td>\n",
              "      <td>3849.000000</td>\n",
              "      <td>1680.000000</td>\n",
              "      <td>7.000000</td>\n",
              "    </tr>\n",
              "  </tbody>\n",
              "</table>\n",
              "</div>\n",
              "      <button class=\"colab-df-convert\" onclick=\"convertToInteractive('df-02edc136-fc70-4fe9-b502-d1bb69f66837')\"\n",
              "              title=\"Convert this dataframe to an interactive table.\"\n",
              "              style=\"display:none;\">\n",
              "        \n",
              "  <svg xmlns=\"http://www.w3.org/2000/svg\" height=\"24px\"viewBox=\"0 0 24 24\"\n",
              "       width=\"24px\">\n",
              "    <path d=\"M0 0h24v24H0V0z\" fill=\"none\"/>\n",
              "    <path d=\"M18.56 5.44l.94 2.06.94-2.06 2.06-.94-2.06-.94-.94-2.06-.94 2.06-2.06.94zm-11 1L8.5 8.5l.94-2.06 2.06-.94-2.06-.94L8.5 2.5l-.94 2.06-2.06.94zm10 10l.94 2.06.94-2.06 2.06-.94-2.06-.94-.94-2.06-.94 2.06-2.06.94z\"/><path d=\"M17.41 7.96l-1.37-1.37c-.4-.4-.92-.59-1.43-.59-.52 0-1.04.2-1.43.59L10.3 9.45l-7.72 7.72c-.78.78-.78 2.05 0 2.83L4 21.41c.39.39.9.59 1.41.59.51 0 1.02-.2 1.41-.59l7.78-7.78 2.81-2.81c.8-.78.8-2.07 0-2.86zM5.41 20L4 18.59l7.72-7.72 1.47 1.35L5.41 20z\"/>\n",
              "  </svg>\n",
              "      </button>\n",
              "      \n",
              "  <style>\n",
              "    .colab-df-container {\n",
              "      display:flex;\n",
              "      flex-wrap:wrap;\n",
              "      gap: 12px;\n",
              "    }\n",
              "\n",
              "    .colab-df-convert {\n",
              "      background-color: #E8F0FE;\n",
              "      border: none;\n",
              "      border-radius: 50%;\n",
              "      cursor: pointer;\n",
              "      display: none;\n",
              "      fill: #1967D2;\n",
              "      height: 32px;\n",
              "      padding: 0 0 0 0;\n",
              "      width: 32px;\n",
              "    }\n",
              "\n",
              "    .colab-df-convert:hover {\n",
              "      background-color: #E2EBFA;\n",
              "      box-shadow: 0px 1px 2px rgba(60, 64, 67, 0.3), 0px 1px 3px 1px rgba(60, 64, 67, 0.15);\n",
              "      fill: #174EA6;\n",
              "    }\n",
              "\n",
              "    [theme=dark] .colab-df-convert {\n",
              "      background-color: #3B4455;\n",
              "      fill: #D2E3FC;\n",
              "    }\n",
              "\n",
              "    [theme=dark] .colab-df-convert:hover {\n",
              "      background-color: #434B5C;\n",
              "      box-shadow: 0px 1px 3px 1px rgba(0, 0, 0, 0.15);\n",
              "      filter: drop-shadow(0px 1px 2px rgba(0, 0, 0, 0.3));\n",
              "      fill: #FFFFFF;\n",
              "    }\n",
              "  </style>\n",
              "\n",
              "      <script>\n",
              "        const buttonEl =\n",
              "          document.querySelector('#df-02edc136-fc70-4fe9-b502-d1bb69f66837 button.colab-df-convert');\n",
              "        buttonEl.style.display =\n",
              "          google.colab.kernel.accessAllowed ? 'block' : 'none';\n",
              "\n",
              "        async function convertToInteractive(key) {\n",
              "          const element = document.querySelector('#df-02edc136-fc70-4fe9-b502-d1bb69f66837');\n",
              "          const dataTable =\n",
              "            await google.colab.kernel.invokeFunction('convertToInteractive',\n",
              "                                                     [key], {});\n",
              "          if (!dataTable) return;\n",
              "\n",
              "          const docLinkHtml = 'Like what you see? Visit the ' +\n",
              "            '<a target=\"_blank\" href=https://colab.research.google.com/notebooks/data_table.ipynb>data table notebook</a>'\n",
              "            + ' to learn more about interactive tables.';\n",
              "          element.innerHTML = '';\n",
              "          dataTable['output_type'] = 'display_data';\n",
              "          await google.colab.output.renderOutput(dataTable, element);\n",
              "          const docLink = document.createElement('div');\n",
              "          docLink.innerHTML = docLinkHtml;\n",
              "          element.appendChild(docLink);\n",
              "        }\n",
              "      </script>\n",
              "    </div>\n",
              "  </div>\n",
              "  "
            ]
          },
          "metadata": {},
          "execution_count": 9
        }
      ],
      "source": [
        "campdata.describe()\n",
        "# Here we can ignore creative id data as it is a numeric categorical value. "
      ]
    },
    {
      "cell_type": "markdown",
      "id": "5d8577a5",
      "metadata": {
        "id": "5d8577a5"
      },
      "source": [
        "## Unique Value check"
      ]
    },
    {
      "cell_type": "code",
      "execution_count": 10,
      "id": "6b4ff1ee",
      "metadata": {
        "colab": {
          "base_uri": "https://localhost:8080/"
        },
        "id": "6b4ff1ee",
        "outputId": "cd0d4460-9daf-40e6-b5b6-6d71e2a9854e"
      },
      "outputs": [
        {
          "output_type": "execute_result",
          "data": {
            "text/plain": [
              "Date                  42\n",
              "CreativeID            70\n",
              "CreativeName          40\n",
              "MediaFormat            2\n",
              "CreativeCategory       9\n",
              "DominantColour         6\n",
              "CreativeFormat         2\n",
              "Impressions         2603\n",
              "Clicks                79\n",
              "VideoStarts          738\n",
              "VideoCompletions     433\n",
              "OperatingSystem        3\n",
              "DayofWeek              7\n",
              "Site                  32\n",
              "SiteCategory           6\n",
              "dtype: int64"
            ]
          },
          "metadata": {},
          "execution_count": 10
        }
      ],
      "source": [
        "campdata.nunique()\n",
        "# This function show how many unique values we have across the columns.\n",
        "# For exp : In date column we have 42 so can consider we have 42 days of data and so on."
      ]
    },
    {
      "cell_type": "markdown",
      "id": "b164a5b2",
      "metadata": {
        "id": "b164a5b2"
      },
      "source": [
        "### Observations :\n",
        "1. We have 42 days of campaign data available.\n",
        "2. We have 70 different types of Creatives ID's\n",
        "3. We have 40 creatives under 9 creative categories.\n",
        "4. We have 6 colour categories.\n",
        "5. We have 2 types in Media format as well as Creative format & 3 types in Operating system.\n",
        "6. The frequency of impressions recieved so far in the time period of 42 days is 2603.\n",
        "7. The frequency of clicks recieved so far in the time period of 42 days is 79.\n",
        "8. We can observe that the frequency of video starts are 738 while the video completions are 433.\n",
        "9. We have 32 sites under 6 site categories."
      ]
    },
    {
      "cell_type": "markdown",
      "id": "078ea128",
      "metadata": {
        "id": "078ea128"
      },
      "source": [
        "## What are the over all highest performing combination of segments ?"
      ]
    },
    {
      "cell_type": "code",
      "execution_count": 11,
      "id": "ea4866ce",
      "metadata": {
        "colab": {
          "base_uri": "https://localhost:8080/"
        },
        "id": "ea4866ce",
        "outputId": "a8618c02-033d-4190-b26f-82e14513a826"
      },
      "outputs": [
        {
          "output_type": "execute_result",
          "data": {
            "text/plain": [
              "Date                 2018-05-21 00:00:00\n",
              "CreativeID                          4197\n",
              "CreativeName               Breaking News\n",
              "MediaFormat               Static Display\n",
              "CreativeCategory                    News\n",
              "DominantColour                      Pink\n",
              "CreativeFormat      Mobile Interscroller\n",
              "Impressions                        28873\n",
              "Clicks                               167\n",
              "VideoStarts                            0\n",
              "VideoCompletions                       0\n",
              "OperatingSystem                  Android\n",
              "DayofWeek                              1\n",
              "Site                      Business Times\n",
              "SiteCategory                        News\n",
              "Name: 23247, dtype: object"
            ]
          },
          "metadata": {},
          "execution_count": 11
        }
      ],
      "source": [
        "campdata.iloc[campdata['Impressions'].idxmax()]"
      ]
    },
    {
      "cell_type": "markdown",
      "id": "f3b76688",
      "metadata": {
        "id": "f3b76688"
      },
      "source": [
        "### Observations : \n",
        "1. On May 21 2018 Monday, we had the top performing ad with overall Impressions observed to be '28,873' with '167' clicks registered.\n",
        "2. The site which hosted this ad is 'Business Times' under the Site category as 'News'.\n",
        "3. Andoid is the operating system where this ad was excecuted with creative format as 'Mobile Interscroller' & media format as 'Static Display'.\n",
        "4. The id for this particular creative is '4197' with the creative name 'Breaking News' and the creative category as 'News'. \n",
        "5. There are '0' video starts and video ends for this ad as this a 'Static Display' ad.\n",
        "6. The Dominant colur of this ad happens to be 'Pink'."
      ]
    },
    {
      "cell_type": "markdown",
      "id": "9b93571a",
      "metadata": {
        "id": "9b93571a"
      },
      "source": [
        "## What are the over all least performing combination of segments ?"
      ]
    },
    {
      "cell_type": "code",
      "execution_count": 12,
      "id": "995b1ca7",
      "metadata": {
        "colab": {
          "base_uri": "https://localhost:8080/"
        },
        "id": "995b1ca7",
        "outputId": "22d00260-577e-45a6-b5f4-9e513e731637"
      },
      "outputs": [
        {
          "output_type": "execute_result",
          "data": {
            "text/plain": [
              "Date                 2018-04-26 00:00:00\n",
              "CreativeID                           692\n",
              "CreativeName               Artful Dodger\n",
              "MediaFormat               Vertical Video\n",
              "CreativeCategory                     Art\n",
              "DominantColour                     Video\n",
              "CreativeFormat      Mobile Interscroller\n",
              "Impressions                            1\n",
              "Clicks                                 0\n",
              "VideoStarts                            0\n",
              "VideoCompletions                       0\n",
              "OperatingSystem                  Android\n",
              "DayofWeek                              4\n",
              "Site                      Sitting Pretty\n",
              "SiteCategory                   Lifestyle\n",
              "Name: 9, dtype: object"
            ]
          },
          "metadata": {},
          "execution_count": 12
        }
      ],
      "source": [
        "campdata.iloc[campdata['Impressions'].idxmin()]"
      ]
    },
    {
      "cell_type": "markdown",
      "id": "629f3e30",
      "metadata": {
        "id": "629f3e30"
      },
      "source": [
        "### Observations : \n",
        "1. On Apr 26 2018 Thrusday, we had the least performing ad with overall Impressions observed to be '1' with '0' clicks & '0' video start and video completions registered.\n",
        "2. The site which hosted this ad was 'Sitting Pretty' under the Site category as 'Lifestyle'.\n",
        "3. Andoid is the operating system where this ad was excecuted with creative format as 'Mobile Interscroller' & media format as 'Vertical Video'.\n",
        "4. The id for this particular creative is '692' with the creative name 'Artful Dodger' and the creative category as 'Art'."
      ]
    },
    {
      "cell_type": "markdown",
      "id": "02cb79e3",
      "metadata": {
        "id": "02cb79e3"
      },
      "source": [
        "## The best and worst ads to grab more Video starts? "
      ]
    },
    {
      "cell_type": "code",
      "execution_count": 13,
      "id": "a608c57c",
      "metadata": {
        "colab": {
          "base_uri": "https://localhost:8080/"
        },
        "id": "a608c57c",
        "outputId": "f0344ed9-fb41-4ff3-aac4-a389948b2e7b"
      },
      "outputs": [
        {
          "output_type": "execute_result",
          "data": {
            "text/plain": [
              "Date                 2018-05-16 00:00:00\n",
              "CreativeID                          3400\n",
              "CreativeName                   YogaBunny\n",
              "MediaFormat               Vertical Video\n",
              "CreativeCategory                  Sports\n",
              "DominantColour                     Video\n",
              "CreativeFormat      Mobile Interscroller\n",
              "Impressions                         8284\n",
              "Clicks                                59\n",
              "VideoStarts                         3849\n",
              "VideoCompletions                    1599\n",
              "OperatingSystem                      iOS\n",
              "DayofWeek                              3\n",
              "Site                            CityNews\n",
              "SiteCategory                        News\n",
              "Name: 18930, dtype: object"
            ]
          },
          "metadata": {},
          "execution_count": 13
        }
      ],
      "source": [
        "campdata.iloc[campdata['VideoStarts'].idxmax()]"
      ]
    },
    {
      "cell_type": "markdown",
      "id": "0bd53870",
      "metadata": {
        "id": "0bd53870"
      },
      "source": [
        "### Observations : \n",
        "1. On May 16 2018 wednesday, the ad with creative name 'YogaBunny' in Sports creative category with Mobile Interscroller grabbed highest video starts. \n",
        "2. Impressions registered for this ad 8 '8284' with '59' clicks and '3849' Video starts and '1599' video completions. \n",
        "3. iOS is the Operating system where the impressions were registered for this particular ad with the site as CityNews and the site category as News. "
      ]
    },
    {
      "cell_type": "code",
      "execution_count": 14,
      "id": "d4fc5c64",
      "metadata": {
        "colab": {
          "base_uri": "https://localhost:8080/"
        },
        "id": "d4fc5c64",
        "outputId": "e81b749e-e8b0-4940-bfd8-1bd1660b1121"
      },
      "outputs": [
        {
          "output_type": "execute_result",
          "data": {
            "text/plain": [
              "Date                 2018-04-26 00:00:00\n",
              "CreativeID                           692\n",
              "CreativeName               Artful Dodger\n",
              "MediaFormat               Vertical Video\n",
              "CreativeCategory                     Art\n",
              "DominantColour                     Video\n",
              "CreativeFormat      Mobile Interscroller\n",
              "Impressions                            2\n",
              "Clicks                                 0\n",
              "VideoStarts                            0\n",
              "VideoCompletions                       0\n",
              "OperatingSystem                    Other\n",
              "DayofWeek                              4\n",
              "Site                    Progressive News\n",
              "SiteCategory                        News\n",
              "Name: 4, dtype: object"
            ]
          },
          "metadata": {},
          "execution_count": 14
        }
      ],
      "source": [
        "campdata.iloc[campdata['VideoStarts'].idxmin()]"
      ]
    },
    {
      "cell_type": "markdown",
      "id": "0e53b281",
      "metadata": {
        "id": "0e53b281"
      },
      "source": [
        "### Observations\n",
        "1. On April 26 2018 Thrusday, the ad with creative name 'Artful Dodger' in Art creative category with Mobile Interscroller grabbed least video starts. \n",
        "2. Impressions registered for this ad are '2' with '0' clicks and '0' Video starts and '0' video completions. \n",
        "3. 'Other' is the Operating system where the impressions were registered for this particular ad with the site as progressiveNews and the site category as News."
      ]
    },
    {
      "cell_type": "markdown",
      "id": "324e1ad9",
      "metadata": {
        "id": "324e1ad9"
      },
      "source": [
        "## The best and worst ads to grab more Video completions? "
      ]
    },
    {
      "cell_type": "code",
      "execution_count": 15,
      "id": "d90d16be",
      "metadata": {
        "colab": {
          "base_uri": "https://localhost:8080/"
        },
        "id": "d90d16be",
        "outputId": "0ec77797-6c32-40d2-ee00-0245cfdd6695"
      },
      "outputs": [
        {
          "output_type": "execute_result",
          "data": {
            "text/plain": [
              "Date                 2018-05-16 00:00:00\n",
              "CreativeID                          1125\n",
              "CreativeName                  Face Fails\n",
              "MediaFormat               Vertical Video\n",
              "CreativeCategory                  Sports\n",
              "DominantColour                     Video\n",
              "CreativeFormat      Mobile Interscroller\n",
              "Impressions                         8132\n",
              "Clicks                                48\n",
              "VideoStarts                         3811\n",
              "VideoCompletions                    1680\n",
              "OperatingSystem                      iOS\n",
              "DayofWeek                              3\n",
              "Site                            CityNews\n",
              "SiteCategory                        News\n",
              "Name: 18367, dtype: object"
            ]
          },
          "metadata": {},
          "execution_count": 15
        }
      ],
      "source": [
        "campdata.iloc[campdata['VideoCompletions'].idxmax()]"
      ]
    },
    {
      "cell_type": "markdown",
      "id": "7bc8f105",
      "metadata": {
        "id": "7bc8f105"
      },
      "source": [
        "### Observations :\n",
        "1. On May 16 2018 wednesday, the ad with creative name 'Face Fails' in 'Sports' creative category with Mobile Interscroller grabbed most video completions. \n",
        "2. Impressions registered for this ad are '8132' with '48' clicks and '3811' Video starts and '1680' video completions. \n",
        "3. 'iOS' is the Operating system where the impressions were registered for this particular ad with the site as CityNews and the site category as News."
      ]
    },
    {
      "cell_type": "code",
      "execution_count": 16,
      "id": "b21773fb",
      "metadata": {
        "colab": {
          "base_uri": "https://localhost:8080/"
        },
        "id": "b21773fb",
        "outputId": "a2aa3d5f-8786-4fb6-8792-776eacfb60b9"
      },
      "outputs": [
        {
          "output_type": "execute_result",
          "data": {
            "text/plain": [
              "Date                 2018-04-26 00:00:00\n",
              "CreativeID                           692\n",
              "CreativeName               Artful Dodger\n",
              "MediaFormat               Vertical Video\n",
              "CreativeCategory                     Art\n",
              "DominantColour                     Video\n",
              "CreativeFormat      Mobile Interscroller\n",
              "Impressions                            2\n",
              "Clicks                                 0\n",
              "VideoStarts                            0\n",
              "VideoCompletions                       0\n",
              "OperatingSystem                    Other\n",
              "DayofWeek                              4\n",
              "Site                    Progressive News\n",
              "SiteCategory                        News\n",
              "Name: 4, dtype: object"
            ]
          },
          "metadata": {},
          "execution_count": 16
        }
      ],
      "source": [
        "campdata.iloc[campdata['VideoCompletions'].idxmin()]"
      ]
    },
    {
      "cell_type": "markdown",
      "id": "46f3af26",
      "metadata": {
        "id": "46f3af26"
      },
      "source": [
        "### Observations :\n",
        "1. On April 26 2018 Thursday, the ad with creative name 'Artful Dodger' in 'Art' creative category with Mobile Interscroller grabbed least video completions. \n",
        "2. Impressions registered for this ad are '2' with '0' clicks and '0' Video starts and '0' video completions. \n",
        "3. 'Other' is the Operating system where the impressions were registered for this particular ad with the site as Progressivenews and the site category as News."
      ]
    },
    {
      "cell_type": "markdown",
      "id": "63d40e4f",
      "metadata": {
        "id": "63d40e4f"
      },
      "source": [
        "## Which Site categories has the highest Interaction?"
      ]
    },
    {
      "cell_type": "code",
      "execution_count": 17,
      "id": "124038b5",
      "metadata": {
        "colab": {
          "base_uri": "https://localhost:8080/",
          "height": 497
        },
        "id": "124038b5",
        "outputId": "9e29628c-8827-44fe-f10b-76b54d771fdb"
      },
      "outputs": [
        {
          "output_type": "display_data",
          "data": {
            "text/plain": [
              "<Figure size 1440x576 with 1 Axes>"
            ],
            "image/png": "[encoded data removed]"
          },
          "metadata": {
            "needs_background": "light"
          }
        }
      ],
      "source": [
        "fig_dims = (20,8) # For size of the figure\n",
        "fig, ax = plt.subplots(figsize=fig_dims)\n",
        "sns.countplot(x='SiteCategory', ax=ax, data=campdata,)\n",
        "plt.show()"
      ]
    },
    {
      "cell_type": "markdown",
      "id": "2cfa4162",
      "metadata": {
        "id": "2cfa4162"
      },
      "source": [
        "## Observations :\n",
        "1. News is the site category which has the highest interacted site category recorded. \n",
        "2. Entertainment category remains the least interacted site category. \n",
        "3. Sports and Fashion/Lifestyle remains 2nd and 3rd positions respectively. "
      ]
    },
    {
      "cell_type": "markdown",
      "id": "5297e8dd",
      "metadata": {
        "id": "5297e8dd"
      },
      "source": [
        "## Which Operating System has the highest Interaction?"
      ]
    },
    {
      "cell_type": "code",
      "execution_count": 18,
      "id": "7243fb3d",
      "metadata": {
        "colab": {
          "base_uri": "https://localhost:8080/",
          "height": 388
        },
        "id": "7243fb3d",
        "outputId": "6307f1d1-375b-4de2-ec78-57a7fb764cc7"
      },
      "outputs": [
        {
          "output_type": "display_data",
          "data": {
            "text/plain": [
              "<Figure size 1080x432 with 1 Axes>"
            ],
            "image/png": "[encoded data removed]"
          },
          "metadata": {
            "needs_background": "light"
          }
        }
      ],
      "source": [
        "fig_dims = (15,6)\n",
        "fig, ax = plt.subplots(figsize=fig_dims)\n",
        "sns.countplot(x='OperatingSystem', ax=ax, data=campdata)\n",
        "plt.show()"
      ]
    },
    {
      "cell_type": "markdown",
      "id": "948d344a",
      "metadata": {
        "id": "948d344a"
      },
      "source": [
        "### Observations :\n",
        "iOS has more interaction compared to Android os"
      ]
    },
    {
      "cell_type": "markdown",
      "id": "eee3df94",
      "metadata": {
        "id": "eee3df94"
      },
      "source": [
        "## What are the best and worst performing sites?"
      ]
    },
    {
      "cell_type": "code",
      "execution_count": 19,
      "id": "d295d773",
      "metadata": {
        "colab": {
          "base_uri": "https://localhost:8080/",
          "height": 514
        },
        "id": "d295d773",
        "outputId": "2463a58a-0462-4fca-e935-b3f05abeab87"
      },
      "outputs": [
        {
          "output_type": "execute_result",
          "data": {
            "text/plain": [
              "<Axes: xlabel='Site'>"
            ]
          },
          "metadata": {},
          "execution_count": 19
        },
        {
          "output_type": "display_data",
          "data": {
            "text/plain": [
              "<Figure size 864x576 with 1 Axes>"
            ],
            "image/png": "[encoded data removed]"
          },
          "metadata": {
            "needs_background": "light"
          }
        }
      ],
      "source": [
        "fig = plt.gcf()\n",
        "\n",
        "# Change seaborn plot size\n",
        "fig.set_size_inches(12, 8)\n",
        "campdata1 = campdata.Site.value_counts() #Created new data variable campdata1\n",
        "sns.barplot(y = campdata1.index, x=campdata1)"
      ]
    },
    {
      "cell_type": "markdown",
      "id": "a9bedffc",
      "metadata": {
        "id": "a9bedffc"
      },
      "source": [
        "### Observations : \n",
        "1. The top 2 performing sites are 'Progressive News' & 'The City Daily'.\n",
        "2. The last 2 performing sites are 'SportsSpam' & 'GossipNews'."
      ]
    },
    {
      "cell_type": "markdown",
      "id": "75c47c73",
      "metadata": {
        "id": "75c47c73"
      },
      "source": [
        "## No of Impressions count observed over the sites?"
      ]
    },
    {
      "cell_type": "code",
      "execution_count": 20,
      "id": "d4ee3373",
      "metadata": {
        "colab": {
          "base_uri": "https://localhost:8080/"
        },
        "id": "d4ee3373",
        "outputId": "fa8a1842-1db1-49b2-cd1f-c2b2038ce98a"
      },
      "outputs": [
        {
          "output_type": "execute_result",
          "data": {
            "text/plain": [
              "Progressive News           3968\n",
              "The City Daily             3913\n",
              "The Ocho Sports Network    2638\n",
              "Little Bird Lifestyle      2451\n",
              "Fashionista                2313\n",
              "Wot? Lifestyle             2035\n",
              "Home & House               1532\n",
              "FPSGaming                  1511\n",
              "The TV News                1457\n",
              "The ClothesRack            1282\n",
              "Sitting Pretty             1267\n",
              "NIMBY Times                1211\n",
              "UK Broadsheet              1208\n",
              "Business Times             1137\n",
              "Marathon Digest             970\n",
              "Weights & Plates            897\n",
              "MusicRoom                   799\n",
              "PedalBikez                  797\n",
              "FootyNews                   766\n",
              "Coin-Op Gaming              716\n",
              "More Sport                  686\n",
              "Vroom Motoring              642\n",
              "CityNews                    568\n",
              "The Classic Gentleman       547\n",
              "Gadgetron                   543\n",
              "Edgy Lifestyles             506\n",
              "RockTunes                   386\n",
              "We Love Gaming              260\n",
              "Cycling Today               138\n",
              "Spambook                    120\n",
              "SportSpam                    96\n",
              "GossipNews                   88\n",
              "Name: Site, dtype: int64"
            ]
          },
          "metadata": {},
          "execution_count": 20
        }
      ],
      "source": [
        "campdata['Site'].value_counts()"
      ]
    },
    {
      "cell_type": "markdown",
      "id": "5d560c96",
      "metadata": {
        "id": "5d560c96"
      },
      "source": [
        "## What are the best and worst performing Creative categories?"
      ]
    },
    {
      "cell_type": "code",
      "source": [
        "campdata.columns"
      ],
      "metadata": {
        "colab": {
          "base_uri": "https://localhost:8080/"
        },
        "id": "3Zh7_JvZ6L5C",
        "outputId": "30c2df4b-6a51-4dca-9b9f-65b1126604b8"
      },
      "id": "3Zh7_JvZ6L5C",
      "execution_count": 21,
      "outputs": [
        {
          "output_type": "execute_result",
          "data": {
            "text/plain": [
              "Index(['Date', 'CreativeID', 'CreativeName', 'MediaFormat', 'CreativeCategory',\n",
              "       'DominantColour', 'CreativeFormat', 'Impressions', 'Clicks',\n",
              "       'VideoStarts', 'VideoCompletions', 'OperatingSystem', 'DayofWeek',\n",
              "       'Site', 'SiteCategory'],\n",
              "      dtype='object')"
            ]
          },
          "metadata": {},
          "execution_count": 21
        }
      ]
    },
    {
      "cell_type": "code",
      "execution_count": 22,
      "id": "3e609e76",
      "metadata": {
        "colab": {
          "base_uri": "https://localhost:8080/",
          "height": 514
        },
        "id": "3e609e76",
        "outputId": "198720c7-cea8-46dd-8be2-1a04611ab2db"
      },
      "outputs": [
        {
          "output_type": "execute_result",
          "data": {
            "text/plain": [
              "<Axes: xlabel='CreativeCategory'>"
            ]
          },
          "metadata": {},
          "execution_count": 22
        },
        {
          "output_type": "display_data",
          "data": {
            "text/plain": [
              "<Figure size 864x576 with 1 Axes>"
            ],
            "image/png": "[encoded data removed]"
          },
          "metadata": {
            "needs_background": "light"
          }
        }
      ],
      "source": [
        "fig = plt.gcf()\n",
        "\n",
        "# Change seaborn plot size\n",
        "fig.set_size_inches(12, 8)\n",
        "campdata1 = campdata.CreativeCategory.value_counts()\n",
        "sns.barplot(y = campdata1.index, x=campdata1, )"
      ]
    },
    {
      "cell_type": "markdown",
      "id": "2dc335ab",
      "metadata": {
        "id": "2dc335ab"
      },
      "source": [
        "### Observations : \n",
        "Lifestyle stands to be highest performer where NewsandSports stands at the last position."
      ]
    },
    {
      "cell_type": "markdown",
      "id": "d828df1b",
      "metadata": {
        "id": "d828df1b"
      },
      "source": [
        "## In which creative category the highest number of ads were displayed."
      ]
    },
    {
      "cell_type": "code",
      "execution_count": 23,
      "id": "389a049b",
      "metadata": {
        "scrolled": true,
        "colab": {
          "base_uri": "https://localhost:8080/"
        },
        "id": "389a049b",
        "outputId": "c434d26e-37c4-4f88-fc32-ab7597113b69"
      },
      "outputs": [
        {
          "output_type": "execute_result",
          "data": {
            "text/plain": [
              "Lifestyle               13980\n",
              "Sports                  10851\n",
              "Entertainment            3125\n",
              "News                     3112\n",
              "Gaming                   2285\n",
              "Art                      1749\n",
              "NewsandEntertainment      962\n",
              "Food                      693\n",
              "NewsandSports             691\n",
              "Name: CreativeCategory, dtype: int64"
            ]
          },
          "metadata": {},
          "execution_count": 23
        }
      ],
      "source": [
        "campdata['CreativeCategory'].value_counts()"
      ]
    },
    {
      "cell_type": "markdown",
      "id": "2a023da9",
      "metadata": {
        "id": "2a023da9"
      },
      "source": [
        "## Top performing Dominant colours per Creative Format"
      ]
    },
    {
      "cell_type": "code",
      "execution_count": 24,
      "id": "7ee7f248",
      "metadata": {
        "colab": {
          "base_uri": "https://localhost:8080/"
        },
        "id": "7ee7f248",
        "outputId": "de58b11c-95de-4d8b-8e86-8f7c8176f4c4"
      },
      "outputs": [
        {
          "output_type": "execute_result",
          "data": {
            "text/plain": [
              "CreativeFormat        DominantColour\n",
              "MPU                   Purple            2324\n",
              "                      Yellow            2167\n",
              "                      Light Blue        2072\n",
              "                      Pink              1769\n",
              "                      Light Green       1583\n",
              "Mobile Interscroller  Video             8570\n",
              "                      Purple            4158\n",
              "                      Yellow            3993\n",
              "                      Pink              3943\n",
              "                      Light Blue        3878\n",
              "                      Light Green       2991\n",
              "Name: DominantColour, dtype: int64"
            ]
          },
          "metadata": {},
          "execution_count": 24
        }
      ],
      "source": [
        "campdata.groupby('CreativeFormat')['DominantColour'].value_counts()"
      ]
    },
    {
      "cell_type": "code",
      "execution_count": 25,
      "id": "d668efa7",
      "metadata": {
        "colab": {
          "base_uri": "https://localhost:8080/",
          "height": 386
        },
        "id": "d668efa7",
        "outputId": "9fdb441e-64a4-4f1a-c592-8fa73a054c95"
      },
      "outputs": [
        {
          "output_type": "execute_result",
          "data": {
            "text/plain": [
              "<seaborn.axisgrid.FacetGrid at 0x7f6359330ee0>"
            ]
          },
          "metadata": {},
          "execution_count": 25
        },
        {
          "output_type": "display_data",
          "data": {
            "text/plain": [
              "<Figure size 1174.88x360 with 1 Axes>"
            ],
            "image/png": "[encoded data removed]"
          },
          "metadata": {
            "needs_background": "light"
          }
        }
      ],
      "source": [
        "# Relplot to undestand the relation the impressions share with days of week over Operating system.\n",
        "sns.relplot(x=\"DayofWeek\",y=\"Impressions\",hue=\"OperatingSystem\",data=campdata,height=5,aspect=3)"
      ]
    },
    {
      "cell_type": "markdown",
      "id": "5c150feb",
      "metadata": {
        "id": "5c150feb"
      },
      "source": [
        "### Observations : \n",
        "1. All the days over three months gathered identical roundoff of the impressions irrespective of OS. \n",
        "2. We can observe more number of iOS users on Day1, Day2, & Day 3. \n",
        "3. Overall iOS is dominant interms of Impressions across day of week."
      ]
    }
  ],
  "metadata": {
    "kernelspec": {
      "display_name": "Python 3",
      "language": "python",
      "name": "python3"
    },
    "language_info": {
      "codemirror_mode": {
        "name": "ipython",
        "version": 3
      },
      "file_extension": ".py",
      "mimetype": "text/x-python",
      "name": "python",
      "nbconvert_exporter": "python",
      "pygments_lexer": "ipython3",
      "version": "3.9.2"
    },
    "colab": {
      "provenance": []
    }
  },
  "nbformat": 4,
  "nbformat_minor": 5
}